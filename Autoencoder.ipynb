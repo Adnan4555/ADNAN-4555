{
  "nbformat": 4,
  "nbformat_minor": 0,
  "metadata": {
    "colab": {
      "provenance": [],
      "authorship_tag": "ABX9TyMwMqaswMZMx6kwOoIySkkU",
      "include_colab_link": true
    },
    "kernelspec": {
      "name": "python3",
      "display_name": "Python 3"
    },
    "language_info": {
      "name": "python"
    }
  },
  "cells": [
    {
      "cell_type": "markdown",
      "metadata": {
        "id": "view-in-github",
        "colab_type": "text"
      },
      "source": [
        "<a href=\"https://colab.research.google.com/github/Adnan4555/ADNAN-4555/blob/GEN-AI/Autoencoder.ipynb\" target=\"_parent\"><img src=\"https://colab.research.google.com/assets/colab-badge.svg\" alt=\"Open In Colab\"/></a>"
      ]
    },
    {
      "cell_type": "code",
      "execution_count": null,
      "metadata": {
        "id": "2Ww29DBe7LNw"
      },
      "outputs": [],
      "source": [
        "import numpy as np\n",
        "import matplotlib.pyplot as plt\n",
        "from tensorflow.keras.layers import Input,Dense,Flatten,Reshape\n",
        "from tensorflow.keras.models import Model\n",
        "from tensorflow.keras.datasets import mnist"
      ]
    },
    {
      "cell_type": "code",
      "source": [
        "#load mnist datas\n",
        "(x_train, _),(x_test, _)=mnist.load_data()\n",
        "print(x_train.shape)\n",
        "print(x_test.shape)\n"
      ],
      "metadata": {
        "colab": {
          "base_uri": "https://localhost:8080/"
        },
        "id": "LFf7NSIa8x17",
        "outputId": "346bbc0a-83bb-4870-b566-413713338ce1"
      },
      "execution_count": null,
      "outputs": [
        {
          "output_type": "stream",
          "name": "stdout",
          "text": [
            "(60000, 28, 28)\n",
            "(10000, 28, 28)\n"
          ]
        }
      ]
    },
    {
      "cell_type": "code",
      "source": [
        "#normalize the data (0 to 1 range)\n",
        "x_train = x_train.astype(\"float32\") / 255.0\n",
        "x_test = x_train.astype(\"float32\")/255.0"
      ],
      "metadata": {
        "id": "pU5bChOW9hZu"
      },
      "execution_count": null,
      "outputs": []
    },
    {
      "cell_type": "code",
      "source": [
        "#flatten the image for the fully connected layers 2d to 1d\n",
        "x_train_flat = x_train.reshape(-1,28*28)\n",
        "x_test_flat = x_test.reshape(-1,28*28)"
      ],
      "metadata": {
        "id": "f_VihPCv9z_F"
      },
      "execution_count": null,
      "outputs": []
    },
    {
      "cell_type": "code",
      "source": [
        "#autoencoder architecture\n",
        "input_img = Input(shape=(28*28,))\n",
        "encoded = Dense(64,activation=\"relu\")(input_img)"
      ],
      "metadata": {
        "id": "gMryM3Kg-V3U"
      },
      "execution_count": null,
      "outputs": []
    },
    {
      "cell_type": "code",
      "source": [
        "#decoder\n",
        "decoded = Dense(28*28,activation=\"sigmoid\")(encoded)"
      ],
      "metadata": {
        "id": "Uqx9Eyxs_CCj"
      },
      "execution_count": null,
      "outputs": []
    },
    {
      "cell_type": "code",
      "source": [
        "#model\n",
        "autoencoder = Model(input_img,decoded)\n",
        "autoencoder.compile(optimizer=\"adam\",loss='binary_crossentropy')\n"
      ],
      "metadata": {
        "id": "Zgb2qWYXInhm"
      },
      "execution_count": null,
      "outputs": []
    },
    {
      "cell_type": "code",
      "source": [
        "#train the model\n",
        "autoencoder.fit(x_train_flat,x_train_flat,epochs=5,batch_size=256,shuffle=True,validation_data=(x_test_flat,x_test_flat))"
      ],
      "metadata": {
        "colab": {
          "base_uri": "https://localhost:8080/"
        },
        "id": "equSrwNIJqks",
        "outputId": "4afc5936-745c-42cd-f92e-3a5d301d7e56"
      },
      "execution_count": null,
      "outputs": [
        {
          "output_type": "stream",
          "name": "stdout",
          "text": [
            "Epoch 1/5\n",
            "\u001b[1m235/235\u001b[0m \u001b[32m━━━━━━━━━━━━━━━━━━━━\u001b[0m\u001b[37m\u001b[0m \u001b[1m7s\u001b[0m 26ms/step - loss: 0.3521 - val_loss: 0.5727\n",
            "Epoch 2/5\n",
            "\u001b[1m235/235\u001b[0m \u001b[32m━━━━━━━━━━━━━━━━━━━━\u001b[0m\u001b[37m\u001b[0m \u001b[1m4s\u001b[0m 16ms/step - loss: 0.1498 - val_loss: 0.4606\n",
            "Epoch 3/5\n",
            "\u001b[1m235/235\u001b[0m \u001b[32m━━━━━━━━━━━━━━━━━━━━\u001b[0m\u001b[37m\u001b[0m \u001b[1m4s\u001b[0m 16ms/step - loss: 0.1205 - val_loss: 0.3515\n",
            "Epoch 4/5\n",
            "\u001b[1m235/235\u001b[0m \u001b[32m━━━━━━━━━━━━━━━━━━━━\u001b[0m\u001b[37m\u001b[0m \u001b[1m5s\u001b[0m 22ms/step - loss: 0.1054 - val_loss: 0.2584\n",
            "Epoch 5/5\n",
            "\u001b[1m235/235\u001b[0m \u001b[32m━━━━━━━━━━━━━━━━━━━━\u001b[0m\u001b[37m\u001b[0m \u001b[1m9s\u001b[0m 16ms/step - loss: 0.0957 - val_loss: 0.1895\n"
          ]
        },
        {
          "output_type": "execute_result",
          "data": {
            "text/plain": [
              "<keras.src.callbacks.history.History at 0x7d6f140f5d10>"
            ]
          },
          "metadata": {},
          "execution_count": 24
        }
      ]
    },
    {
      "cell_type": "code",
      "source": [
        "#reconstruct the image\n",
        "reconstructed_imgs = autoencoder.predict(x_test_flat)"
      ],
      "metadata": {
        "colab": {
          "base_uri": "https://localhost:8080/"
        },
        "id": "WmbyiP6fKeCN",
        "outputId": "a9bbd6a4-c18f-4e84-af65-aa51c1f1950d"
      },
      "execution_count": null,
      "outputs": [
        {
          "output_type": "stream",
          "name": "stdout",
          "text": [
            "\u001b[1m1875/1875\u001b[0m \u001b[32m━━━━━━━━━━━━━━━━━━━━\u001b[0m\u001b[37m\u001b[0m \u001b[1m4s\u001b[0m 2ms/step\n"
          ]
        }
      ]
    },
    {
      "cell_type": "code",
      "source": [
        "#plot the original and recontructed images\n",
        "n = 10\n",
        "plt.figure(figsize=(20,4))\n",
        "for i  in range(n):\n",
        "  #display original\n",
        "  ax = plt.subplot(2, n, i +1)\n",
        "  plt.imshow(x_test[i],cmap='gray')\n",
        "  ax.get_xaxis().set_visible(False)\n",
        "  ax.get_yaxis().set_visible(False)\n",
        "\n",
        "  #display reconstruction\n",
        "  ax = plt.subplot(2, n, i + 1)\n",
        "  plt.imshow(reconstructed_imgs[i].reshape(28,28),cmap=\"gray\")\n",
        "  ax.get_xaxis().set_visible(False)\n",
        "  ax.get_yaxis().set_visible(False)\n",
        "plt.show()\n"
      ],
      "metadata": {
        "colab": {
          "base_uri": "https://localhost:8080/",
          "height": 104
        },
        "id": "JDULxCaRKvls",
        "outputId": "95cd6e51-5153-45cb-d080-95b931cf3751"
      },
      "execution_count": null,
      "outputs": [
        {
          "output_type": "display_data",
          "data": {
            "text/plain": [
              "<Figure size 2000x400 with 10 Axes>"
            ],
            "image/png": "[encoded data removed]"
          },
          "metadata": {}
        }
      ]
    },
    {
      "cell_type": "code",
      "source": [],
      "metadata": {
        "id": "qhoZaq2ONBFW"
      },
      "execution_count": null,
      "outputs": []
    }
  ]
}