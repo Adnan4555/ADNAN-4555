{
  "cells": [
    {
      "cell_type": "markdown",
      "metadata": {
        "id": "view-in-github",
        "colab_type": "text"
      },
      "source": [
        "<a href=\"https://colab.research.google.com/github/Adnan4555/ADNAN-4555/blob/GEN-AI/NLP.ipynb\" target=\"_parent\"><img src=\"https://colab.research.google.com/assets/colab-badge.svg\" alt=\"Open In Colab\"/></a>"
      ]
    },
    {
      "cell_type": "code",
      "execution_count": null,
      "metadata": {
        "colab": {
          "background_save": true
        },
        "id": "ifWGq3syjJL6"
      },
      "outputs": [],
      "source": [
        "import nltk\n",
        "from nltk.corpus import stopwords\n",
        "from nltk.tokenize import word_tokenize\n",
        "import string"
      ]
    },
    {
      "cell_type": "code",
      "execution_count": null,
      "metadata": {
        "colab": {
          "background_save": true,
          "base_uri": "https://localhost:8080/"
        },
        "id": "x-ehbZofniAR",
        "outputId": "909b22c6-9b2a-4889-8281-8b3da302f821"
      },
      "outputs": [
        {
          "name": "stderr",
          "output_type": "stream",
          "text": [
            "[nltk_data] Downloading package punkt_tab to /root/nltk_data...\n",
            "[nltk_data]   Unzipping tokenizers/punkt_tab.zip.\n",
            "[nltk_data] Downloading package punkt to /root/nltk_data...\n",
            "[nltk_data]   Unzipping tokenizers/punkt.zip.\n",
            "[nltk_data] Downloading package stopwords to /root/nltk_data...\n",
            "[nltk_data]   Unzipping corpora/stopwords.zip.\n"
          ]
        },
        {
          "data": {
            "text/plain": [
              "True"
            ]
          },
          "execution_count": 2,
          "metadata": {},
          "output_type": "execute_result"
        }
      ],
      "source": [
        "nltk.download('punkt_tab')\n",
        "nltk.download('punkt')\n",
        "nltk.download('stopwords')"
      ]
    },
    {
      "cell_type": "code",
      "execution_count": null,
      "metadata": {
        "colab": {
          "background_save": true,
          "base_uri": "https://localhost:8080/"
        },
        "id": "bwgL-etJscdT",
        "outputId": "f2f86c51-82f3-4d19-af07-28a7a7f48d8c"
      },
      "outputs": [
        {
          "name": "stdout",
          "output_type": "stream",
          "text": [
            "hello welcome to the world of nlp.let's learn text preprocessing\n"
          ]
        }
      ],
      "source": [
        "#example text\n",
        "text = \"Hello Welcome to the world of NLP.Let's learn text preprocessing\"\n",
        "\n",
        "#Lowercasing\n",
        "text = text.lower()\n",
        "print(text)"
      ]
    },
    {
      "cell_type": "code",
      "execution_count": null,
      "metadata": {
        "colab": {
          "background_save": true,
          "base_uri": "https://localhost:8080/"
        },
        "id": "_9Nai1O_s-ZT",
        "outputId": "7f752d51-cd11-47eb-ddc0-d76415b65a77"
      },
      "outputs": [
        {
          "name": "stdout",
          "output_type": "stream",
          "text": [
            "hello welcome to the world of nlplets learn text preprocessing\n"
          ]
        }
      ],
      "source": [
        "#remove punctuation\n",
        "text = text.translate(str.maketrans(\" \",\" \",string.punctuation))\n",
        "print(text)"
      ]
    },
    {
      "cell_type": "code",
      "execution_count": null,
      "metadata": {
        "colab": {
          "background_save": true,
          "base_uri": "https://localhost:8080/"
        },
        "id": "-9TBPuzKtNnr",
        "outputId": "3c00a312-4832-427a-e54c-e481a00e9bf2"
      },
      "outputs": [
        {
          "name": "stdout",
          "output_type": "stream",
          "text": [
            "['hello', 'welcome', 'to', 'the', 'world', 'of', 'nlplets', 'learn', 'text', 'preprocessing']\n"
          ]
        }
      ],
      "source": [
        "#tokenistaion\n",
        "tokens = word_tokenize(text)\n",
        "print(tokens)"
      ]
    },
    {
      "cell_type": "code",
      "execution_count": null,
      "metadata": {
        "colab": {
          "background_save": true,
          "base_uri": "https://localhost:8080/"
        },
        "id": "vNMw3UIbtiC_",
        "outputId": "ca5c18b5-998e-4c47-9b09-ad38bf822d9d"
      },
      "outputs": [
        {
          "name": "stdout",
          "output_type": "stream",
          "text": [
            "['hello', 'welcome', 'world', 'nlplets', 'learn', 'text', 'preprocessing']\n"
          ]
        }
      ],
      "source": [
        "#stopwords\n",
        "stop_words = set(stopwords.words('english'))\n",
        "filtered_token = [word for word in tokens if word not in stop_words]\n",
        "print(filtered_token)"
      ]
    },
    {
      "cell_type": "code",
      "execution_count": null,
      "metadata": {
        "colab": {
          "background_save": true,
          "base_uri": "https://localhost:8080/"
        },
        "id": "ngt5ffRBu2CZ",
        "outputId": "124b2d0b-811e-400f-bda5-4a5ad3e3982b"
      },
      "outputs": [
        {
          "name": "stdout",
          "output_type": "stream",
          "text": [
            "['i', 'me', 'my', 'myself', 'we', 'our', 'ours', 'ourselves', 'you', \"you're\", \"you've\", \"you'll\", \"you'd\", 'your', 'yours', 'yourself', 'yourselves', 'he', 'him', 'his', 'himself', 'she', \"she's\", 'her', 'hers', 'herself', 'it', \"it's\", 'its', 'itself', 'they', 'them', 'their', 'theirs', 'themselves', 'what', 'which', 'who', 'whom', 'this', 'that', \"that'll\", 'these', 'those', 'am', 'is', 'are', 'was', 'were', 'be', 'been', 'being', 'have', 'has', 'had', 'having', 'do', 'does', 'did', 'doing', 'a', 'an', 'the', 'and', 'but', 'if', 'or', 'because', 'as', 'until', 'while', 'of', 'at', 'by', 'for', 'with', 'about', 'against', 'between', 'into', 'through', 'during', 'before', 'after', 'above', 'below', 'to', 'from', 'up', 'down', 'in', 'out', 'on', 'off', 'over', 'under', 'again', 'further', 'then', 'once', 'here', 'there', 'when', 'where', 'why', 'how', 'all', 'any', 'both', 'each', 'few', 'more', 'most', 'other', 'some', 'such', 'no', 'nor', 'not', 'only', 'own', 'same', 'so', 'than', 'too', 'very', 's', 't', 'can', 'will', 'just', 'don', \"don't\", 'should', \"should've\", 'now', 'd', 'll', 'm', 'o', 're', 've', 'y', 'ain', 'aren', \"aren't\", 'couldn', \"couldn't\", 'didn', \"didn't\", 'doesn', \"doesn't\", 'hadn', \"hadn't\", 'hasn', \"hasn't\", 'haven', \"haven't\", 'isn', \"isn't\", 'ma', 'mightn', \"mightn't\", 'mustn', \"mustn't\", 'needn', \"needn't\", 'shan', \"shan't\", 'shouldn', \"shouldn't\", 'wasn', \"wasn't\", 'weren', \"weren't\", 'won', \"won't\", 'wouldn', \"wouldn't\"]\n"
          ]
        }
      ],
      "source": [
        "import nltk\n",
        "from nltk.corpus import stopwords\n",
        "print(stopwords.words('english'))"
      ]
    },
    {
      "cell_type": "code",
      "execution_count": null,
      "metadata": {
        "colab": {
          "background_save": true
        },
        "id": "qOfG5wuNvjzi"
      },
      "outputs": [],
      "source": [
        "import spacy"
      ]
    },
    {
      "cell_type": "code",
      "execution_count": null,
      "metadata": {
        "colab": {
          "background_save": true
        },
        "id": "2d8o0qXIyGR_"
      },
      "outputs": [],
      "source": [
        "#load spacy english model\n",
        "nlp = spacy.load(\"en_core_web_sm\")"
      ]
    },
    {
      "cell_type": "code",
      "execution_count": null,
      "metadata": {
        "colab": {
          "background_save": true
        },
        "id": "zAwh7PMnybWa"
      },
      "outputs": [],
      "source": [
        "#sample text\n",
        "text = \"there is a pen on the table\""
      ]
    },
    {
      "cell_type": "code",
      "execution_count": null,
      "metadata": {
        "colab": {
          "background_save": true
        },
        "id": "-iOeCj4jyjZE",
        "outputId": "9a8f3a65-bf7f-4872-dffd-615c58f92089"
      },
      "outputs": [
        {
          "name": "stdout",
          "output_type": "stream",
          "text": [
            "there is a pen on the table\n"
          ]
        }
      ],
      "source": [
        "#process the text using spacy\n",
        "doc = nlp(text)\n",
        "print(doc)\n"
      ]
    },
    {
      "cell_type": "code",
      "execution_count": null,
      "metadata": {
        "colab": {
          "background_save": true
        },
        "id": "1fABRWqN0CRF"
      },
      "outputs": [],
      "source": [
        "#Remove stopwords\n",
        "filtered_words = [token.text for token in doc if not token.is_stop]"
      ]
    },
    {
      "cell_type": "code",
      "execution_count": null,
      "metadata": {
        "colab": {
          "background_save": true
        },
        "id": "Ilz1662M0XNz",
        "outputId": "f378b7b7-2336-4c29-b9a1-5409df90ebd7"
      },
      "outputs": [
        {
          "name": "stdout",
          "output_type": "stream",
          "text": [
            "orginal text: there is a pen on the table\n",
            "text after stopword removal: pen table\n"
          ]
        }
      ],
      "source": [
        "#join  the filterd words to form a clean text\n",
        "clean_text = ' '.join(filtered_words)\n",
        "\n",
        "print(\"orginal text:\", text)\n",
        "print(\"text after stopword removal:\", clean_text)\n"
      ]
    },
    {
      "cell_type": "markdown",
      "metadata": {
        "id": "So7LbYKRAxkv"
      },
      "source": [
        "#Bag of Words\n"
      ]
    },
    {
      "cell_type": "code",
      "execution_count": null,
      "metadata": {
        "colab": {
          "background_save": true
        },
        "id": "M_iBeXIf1Tjs"
      },
      "outputs": [],
      "source": [
        "import nltk\n",
        "import re\n",
        "import numpy as np"
      ]
    },
    {
      "cell_type": "code",
      "execution_count": null,
      "metadata": {
        "colab": {
          "background_save": true
        },
        "id": "6JYTdXgfBCYb"
      },
      "outputs": [],
      "source": [
        "text = \"Beans.I was trying to explain to somebody as we were flying in, that’s corn.  That’s beans. And they were very impressed at my agricultural knowledge. Please give it up for Amaury once again for that outstanding introduction. I have a bunch of good friends here today, including somebody who I served with, who is one of the finest senators in the country, and we’re lucky to have him, your Senator, Dick Durbin is here. I also noticed, by the way, former Governor Edgar here, who I haven’t seen in a long time, and somehow he has not aged and I have. And it’s great to see you, Governor. I want to thank President Killeen and everybody at the U of I System for making it possible for me to be here today. And I am deeply honored at the Paul Douglas Award that is being given to me. He is somebody who set the path for so much outstanding public service here in Illinois. Now, I want to start by addressing the elephant in the room. I know people are still wondering why I didn’t speak at the commencement.\""
      ]
    },
    {
      "cell_type": "code",
      "execution_count": null,
      "metadata": {
        "colab": {
          "background_save": true
        },
        "id": "svbBvAyvB8t2"
      },
      "outputs": [],
      "source": [
        "dataset = nltk.sent_tokenize(text)\n",
        "for i in range(len(dataset)):  # Fix: Changed `datasets` to `dataset`\n",
        "  dataset[i] = dataset[i].lower()  # Convert to lowercase\n",
        "  dataset[i] = re.sub(r'[^\\w\\s]', ' ', dataset[i])  # Fix: Replace only punctuation, not words\n",
        "  dataset[i] = re.sub(r'\\s+', ' ', dataset[i])"
      ]
    },
    {
      "cell_type": "code",
      "execution_count": null,
      "metadata": {
        "colab": {
          "background_save": true
        },
        "id": "YT-N-SBMGiHL"
      },
      "outputs": [],
      "source": [
        "#creating a bag of words model\n",
        "word2count = {}\n",
        "for data in dataset:\n",
        "  words = nltk.word_tokenize(data)\n",
        "  for word in words:\n",
        "    if word not in word2count.keys():\n",
        "      word2count[word] = 1\n",
        "    else:\n",
        "      word2count[word] += 1"
      ]
    },
    {
      "cell_type": "code",
      "execution_count": null,
      "metadata": {
        "colab": {
          "background_save": true
        },
        "id": "KdgSCrA3Eo87",
        "outputId": "e2479cd5-0083-4162-aacc-939e4e0c358e"
      },
      "outputs": [
        {
          "name": "stdout",
          "output_type": "stream",
          "text": [
            "{'beans': 2, 'i': 12, 'was': 1, 'trying': 1, 'to': 8, 'explain': 1, 'somebody': 3, 'as': 1, 'we': 2, 'were': 2, 'flying': 1, 'in': 5, 'that': 4, 's': 3, 'corn': 1, 'and': 7, 'they': 1, 'very': 1, 'impressed': 1, 'at': 4, 'my': 1, 'agricultural': 1, 'knowledge': 1, 'please': 1, 'give': 1, 'it': 3, 'up': 1, 'for': 5, 'amaury': 1, 'once': 1, 'again': 1, 'outstanding': 2, 'introduction': 1, 'have': 3, 'a': 2, 'bunch': 1, 'of': 3, 'good': 1, 'friends': 1, 'here': 5, 'today': 2, 'including': 1, 'who': 4, 'served': 1, 'with': 1, 'is': 4, 'one': 1, 'the': 9, 'finest': 1, 'senators': 1, 'country': 1, 're': 1, 'lucky': 1, 'him': 1, 'your': 1, 'senator': 1, 'dick': 1, 'durbin': 1, 'also': 1, 'noticed': 1, 'by': 2, 'way': 1, 'former': 1, 'governor': 2, 'edgar': 1, 'haven': 1, 't': 2, 'seen': 1, 'long': 1, 'time': 1, 'somehow': 1, 'he': 2, 'has': 1, 'not': 1, 'aged': 1, 'great': 1, 'see': 1, 'you': 1, 'want': 2, 'thank': 1, 'president': 1, 'killeen': 1, 'everybody': 1, 'u': 1, 'system': 1, 'making': 1, 'possible': 1, 'me': 2, 'be': 1, 'am': 1, 'deeply': 1, 'honored': 1, 'paul': 1, 'douglas': 1, 'award': 1, 'being': 1, 'given': 1, 'set': 1, 'path': 1, 'so': 1, 'much': 1, 'public': 1, 'service': 1, 'illinois': 1, 'now': 1, 'start': 1, 'addressing': 1, 'elephant': 1, 'room': 1, 'know': 1, 'people': 1, 'are': 1, 'still': 1, 'wondering': 1, 'why': 1, 'didn': 1, 'speak': 1, 'commencement': 1}\n"
          ]
        }
      ],
      "source": [
        "print(word2count)"
      ]
    },
    {
      "cell_type": "markdown",
      "metadata": {
        "id": "VkuaFVUkL_bN"
      },
      "source": [
        "#word embedding"
      ]
    },
    {
      "cell_type": "code",
      "execution_count": null,
      "metadata": {
        "colab": {
          "background_save": true
        },
        "id": "2mV8TqbnKN_b"
      },
      "outputs": [],
      "source": [
        "example_text = \"cat in the hat dog on the mat bird in the tree\""
      ]
    },
    {
      "cell_type": "code",
      "execution_count": null,
      "metadata": {
        "colab": {
          "background_save": true
        },
        "id": "T_DnFHDcMLon",
        "outputId": "1e272a94-9c67-45b2-e345-71a80bb9f17b"
      },
      "outputs": [
        {
          "name": "stdout",
          "output_type": "stream",
          "text": [
            "['cat', 'in', 'the', 'hat', 'dog', 'on', 'the', 'mat', 'bird', 'in', 'the', 'tree']\n"
          ]
        }
      ],
      "source": [
        "#split the text into words\n",
        "words = example_text.split()\n",
        "print(words)"
      ]
    },
    {
      "cell_type": "code",
      "execution_count": null,
      "metadata": {
        "colab": {
          "background_save": true
        },
        "id": "I1uzCXnQMn0b",
        "outputId": "0f264e16-8866-484e-d361-bddd071521ac"
      },
      "outputs": [
        {
          "name": "stdout",
          "output_type": "stream",
          "text": [
            "{'in', 'the', 'tree', 'on', 'mat', 'bird', 'dog', 'cat', 'hat'}\n"
          ]
        }
      ],
      "source": [
        "#create a set of unique words (vocabulary)\n",
        "vocabulary = set(words)\n",
        "print(vocabulary)"
      ]
    },
    {
      "cell_type": "code",
      "execution_count": null,
      "metadata": {
        "colab": {
          "background_save": true
        },
        "id": "7gVpei80My-8",
        "outputId": "27469298-c588-4a3f-f526-70796921c374"
      },
      "outputs": [
        {
          "name": "stdout",
          "output_type": "stream",
          "text": [
            "{'in': 0, 'the': 1, 'tree': 2, 'on': 3, 'mat': 4, 'bird': 5, 'dog': 6, 'cat': 7, 'hat': 8}\n"
          ]
        }
      ],
      "source": [
        "#create a dictionary to map each words to a unique index\n",
        "word_to_index = {word: i for i, word in enumerate(vocabulary)}\n",
        "print(word_to_index)"
      ]
    },
    {
      "cell_type": "code",
      "execution_count": null,
      "metadata": {
        "colab": {
          "background_save": true
        },
        "id": "3k-ElNYpNVM1"
      },
      "outputs": [],
      "source": [
        "#initialize the list to store one-hot encoded vectors\n",
        "one_hot_encoded = []"
      ]
    },
    {
      "cell_type": "code",
      "execution_count": null,
      "metadata": {
        "colab": {
          "background_save": true
        },
        "id": "XM7Wy87LN0ud"
      },
      "outputs": [],
      "source": [
        "for word in words:\n",
        "  one_hot_vector = [0] * len(vocabulary)\n",
        "  one_hot_vector[word_to_index[word]] = 1\n",
        "  one_hot_encoded.append(one_hot_vector)"
      ]
    },
    {
      "cell_type": "code",
      "execution_count": null,
      "metadata": {
        "colab": {
          "background_save": true
        },
        "id": "lG889Ag03aHO",
        "outputId": "3eb5a9de-90d5-4a3d-fb7b-0576d31edfdd"
      },
      "outputs": [
        {
          "name": "stdout",
          "output_type": "stream",
          "text": [
            "Vocabulary: {'in', 'the', 'tree', 'on', 'mat', 'bird', 'dog', 'cat', 'hat'}\n",
            "Word to Index Mapping: {'in': 0, 'the': 1, 'tree': 2, 'on': 3, 'mat': 4, 'bird': 5, 'dog': 6, 'cat': 7, 'hat': 8}\n",
            "One-Hot Encoded Matrix:\n",
            "cat: [0, 0, 0, 0, 0, 0, 0, 1, 0]\n",
            "in: [1, 0, 0, 0, 0, 0, 0, 0, 0]\n",
            "the: [0, 1, 0, 0, 0, 0, 0, 0, 0]\n",
            "hat: [0, 0, 0, 0, 0, 0, 0, 0, 1]\n",
            "dog: [0, 0, 0, 0, 0, 0, 1, 0, 0]\n",
            "on: [0, 0, 0, 1, 0, 0, 0, 0, 0]\n",
            "the: [0, 1, 0, 0, 0, 0, 0, 0, 0]\n",
            "mat: [0, 0, 0, 0, 1, 0, 0, 0, 0]\n",
            "bird: [0, 0, 0, 0, 0, 1, 0, 0, 0]\n",
            "in: [1, 0, 0, 0, 0, 0, 0, 0, 0]\n",
            "the: [0, 1, 0, 0, 0, 0, 0, 0, 0]\n",
            "tree: [0, 0, 1, 0, 0, 0, 0, 0, 0]\n"
          ]
        }
      ],
      "source": [
        "\n",
        "print(\"Vocabulary:\", vocabulary)\n",
        "print(\"Word to Index Mapping:\", word_to_index)\n",
        "print(\"One-Hot Encoded Matrix:\")\n",
        "for word, encoding in zip(example_text.split(), one_hot_encoded):\n",
        "    print(f\"{word}: {encoding}\")"
      ]
    },
    {
      "cell_type": "markdown",
      "metadata": {
        "id": "HBvlLXeyAnd9"
      },
      "source": [
        "#.........\n"
      ]
    },
    {
      "cell_type": "code",
      "execution_count": null,
      "metadata": {
        "colab": {
          "background_save": true
        },
        "id": "fFlqqp7u3gYn"
      },
      "outputs": [],
      "source": [
        "import os\n",
        "import nltk\n",
        "import nltk.corpus"
      ]
    },
    {
      "cell_type": "code",
      "execution_count": null,
      "metadata": {
        "colab": {
          "background_save": true
        },
        "id": "u0eIEAeMA3OO",
        "outputId": "f0daae39-db5a-4c5c-db6d-6feae6c394f4"
      },
      "outputs": [
        {
          "name": "stderr",
          "output_type": "stream",
          "text": [
            "[nltk_data] Downloading collection 'all-corpora'\n",
            "[nltk_data]    | \n",
            "[nltk_data]    | Downloading package abc to /root/nltk_data...\n",
            "[nltk_data]    |   Unzipping corpora/abc.zip.\n",
            "[nltk_data]    | Downloading package alpino to /root/nltk_data...\n",
            "[nltk_data]    |   Unzipping corpora/alpino.zip.\n",
            "[nltk_data]    | Downloading package bcp47 to /root/nltk_data...\n",
            "[nltk_data]    | Downloading package biocreative_ppi to\n",
            "[nltk_data]    |     /root/nltk_data...\n",
            "[nltk_data]    |   Unzipping corpora/biocreative_ppi.zip.\n",
            "[nltk_data]    | Downloading package brown to /root/nltk_data...\n",
            "[nltk_data]    |   Unzipping corpora/brown.zip.\n",
            "[nltk_data]    | Downloading package brown_tei to /root/nltk_data...\n",
            "[nltk_data]    |   Unzipping corpora/brown_tei.zip.\n",
            "[nltk_data]    | Downloading package cess_cat to /root/nltk_data...\n",
            "[nltk_data]    |   Unzipping corpora/cess_cat.zip.\n",
            "[nltk_data]    | Downloading package cess_esp to /root/nltk_data...\n",
            "[nltk_data]    |   Unzipping corpora/cess_esp.zip.\n",
            "[nltk_data]    | Downloading package chat80 to /root/nltk_data...\n",
            "[nltk_data]    |   Unzipping corpora/chat80.zip.\n",
            "[nltk_data]    | Downloading package city_database to\n",
            "[nltk_data]    |     /root/nltk_data...\n",
            "[nltk_data]    |   Unzipping corpora/city_database.zip.\n",
            "[nltk_data]    | Downloading package cmudict to /root/nltk_data...\n",
            "[nltk_data]    |   Unzipping corpora/cmudict.zip.\n",
            "[nltk_data]    | Downloading package comparative_sentences to\n",
            "[nltk_data]    |     /root/nltk_data...\n",
            "[nltk_data]    |   Unzipping corpora/comparative_sentences.zip.\n",
            "[nltk_data]    | Downloading package comtrans to /root/nltk_data...\n",
            "[nltk_data]    | Downloading package conll2000 to /root/nltk_data...\n",
            "[nltk_data]    |   Unzipping corpora/conll2000.zip.\n",
            "[nltk_data]    | Downloading package conll2002 to /root/nltk_data...\n",
            "[nltk_data]    |   Unzipping corpora/conll2002.zip.\n",
            "[nltk_data]    | Downloading package conll2007 to /root/nltk_data...\n",
            "[nltk_data]    | Downloading package crubadan to /root/nltk_data...\n",
            "[nltk_data]    |   Unzipping corpora/crubadan.zip.\n",
            "[nltk_data]    | Downloading package dependency_treebank to\n",
            "[nltk_data]    |     /root/nltk_data...\n",
            "[nltk_data]    |   Unzipping corpora/dependency_treebank.zip.\n",
            "[nltk_data]    | Downloading package dolch to /root/nltk_data...\n",
            "[nltk_data]    |   Unzipping corpora/dolch.zip.\n",
            "[nltk_data]    | Downloading package europarl_raw to\n",
            "[nltk_data]    |     /root/nltk_data...\n",
            "[nltk_data]    |   Unzipping corpora/europarl_raw.zip.\n",
            "[nltk_data]    | Downloading package extended_omw to\n",
            "[nltk_data]    |     /root/nltk_data...\n",
            "[nltk_data]    | Downloading package floresta to /root/nltk_data...\n",
            "[nltk_data]    |   Unzipping corpora/floresta.zip.\n",
            "[nltk_data]    | Downloading package framenet_v15 to\n",
            "[nltk_data]    |     /root/nltk_data...\n",
            "[nltk_data]    |   Unzipping corpora/framenet_v15.zip.\n",
            "[nltk_data]    | Downloading package framenet_v17 to\n",
            "[nltk_data]    |     /root/nltk_data...\n",
            "[nltk_data]    |   Unzipping corpora/framenet_v17.zip.\n",
            "[nltk_data]    | Downloading package gazetteers to /root/nltk_data...\n",
            "[nltk_data]    |   Unzipping corpora/gazetteers.zip.\n",
            "[nltk_data]    | Downloading package genesis to /root/nltk_data...\n",
            "[nltk_data]    |   Unzipping corpora/genesis.zip.\n",
            "[nltk_data]    | Downloading package gutenberg to /root/nltk_data...\n",
            "[nltk_data]    |   Unzipping corpora/gutenberg.zip.\n",
            "[nltk_data]    | Downloading package ieer to /root/nltk_data...\n",
            "[nltk_data]    |   Unzipping corpora/ieer.zip.\n",
            "[nltk_data]    | Downloading package inaugural to /root/nltk_data...\n",
            "[nltk_data]    |   Unzipping corpora/inaugural.zip.\n",
            "[nltk_data]    | Downloading package indian to /root/nltk_data...\n",
            "[nltk_data]    |   Unzipping corpora/indian.zip.\n",
            "[nltk_data]    | Downloading package jeita to /root/nltk_data...\n",
            "[nltk_data]    | Downloading package kimmo to /root/nltk_data...\n",
            "[nltk_data]    |   Unzipping corpora/kimmo.zip.\n",
            "[nltk_data]    | Downloading package knbc to /root/nltk_data...\n",
            "[nltk_data]    | Downloading package lin_thesaurus to\n",
            "[nltk_data]    |     /root/nltk_data...\n",
            "[nltk_data]    |   Unzipping corpora/lin_thesaurus.zip.\n",
            "[nltk_data]    | Downloading package mac_morpho to /root/nltk_data...\n",
            "[nltk_data]    |   Unzipping corpora/mac_morpho.zip.\n",
            "[nltk_data]    | Downloading package machado to /root/nltk_data...\n",
            "[nltk_data]    | Downloading package masc_tagged to /root/nltk_data...\n",
            "[nltk_data]    | Downloading package movie_reviews to\n",
            "[nltk_data]    |     /root/nltk_data...\n",
            "[nltk_data]    |   Unzipping corpora/movie_reviews.zip.\n",
            "[nltk_data]    | Downloading package mte_teip5 to /root/nltk_data...\n",
            "[nltk_data]    |   Unzipping corpora/mte_teip5.zip.\n",
            "[nltk_data]    | Downloading package names to /root/nltk_data...\n",
            "[nltk_data]    |   Unzipping corpora/names.zip.\n",
            "[nltk_data]    | Downloading package nombank.1.0 to /root/nltk_data...\n",
            "[nltk_data]    | Downloading package nonbreaking_prefixes to\n",
            "[nltk_data]    |     /root/nltk_data...\n",
            "[nltk_data]    |   Unzipping corpora/nonbreaking_prefixes.zip.\n",
            "[nltk_data]    | Downloading package nps_chat to /root/nltk_data...\n",
            "[nltk_data]    |   Unzipping corpora/nps_chat.zip.\n",
            "[nltk_data]    | Downloading package omw to /root/nltk_data...\n",
            "[nltk_data]    | Downloading package omw-1.4 to /root/nltk_data...\n",
            "[nltk_data]    | Downloading package opinion_lexicon to\n",
            "[nltk_data]    |     /root/nltk_data...\n",
            "[nltk_data]    |   Unzipping corpora/opinion_lexicon.zip.\n",
            "[nltk_data]    | Downloading package panlex_swadesh to\n",
            "[nltk_data]    |     /root/nltk_data...\n",
            "[nltk_data]    | Downloading package paradigms to /root/nltk_data...\n",
            "[nltk_data]    |   Unzipping corpora/paradigms.zip.\n",
            "[nltk_data]    | Downloading package pe08 to /root/nltk_data...\n",
            "[nltk_data]    |   Unzipping corpora/pe08.zip.\n",
            "[nltk_data]    | Downloading package pil to /root/nltk_data...\n",
            "[nltk_data]    |   Unzipping corpora/pil.zip.\n",
            "[nltk_data]    | Downloading package pl196x to /root/nltk_data...\n",
            "[nltk_data]    |   Unzipping corpora/pl196x.zip.\n",
            "[nltk_data]    | Downloading package ppattach to /root/nltk_data...\n",
            "[nltk_data]    |   Unzipping corpora/ppattach.zip.\n",
            "[nltk_data]    | Downloading package problem_reports to\n",
            "[nltk_data]    |     /root/nltk_data...\n",
            "[nltk_data]    |   Unzipping corpora/problem_reports.zip.\n",
            "[nltk_data]    | Downloading package product_reviews_1 to\n",
            "[nltk_data]    |     /root/nltk_data...\n",
            "[nltk_data]    |   Unzipping corpora/product_reviews_1.zip.\n",
            "[nltk_data]    | Downloading package product_reviews_2 to\n",
            "[nltk_data]    |     /root/nltk_data...\n",
            "[nltk_data]    |   Unzipping corpora/product_reviews_2.zip.\n",
            "[nltk_data]    | Downloading package propbank to /root/nltk_data...\n",
            "[nltk_data]    | Downloading package pros_cons to /root/nltk_data...\n",
            "[nltk_data]    |   Unzipping corpora/pros_cons.zip.\n",
            "[nltk_data]    | Downloading package ptb to /root/nltk_data...\n",
            "[nltk_data]    |   Unzipping corpora/ptb.zip.\n",
            "[nltk_data]    | Downloading package qc to /root/nltk_data...\n",
            "[nltk_data]    |   Unzipping corpora/qc.zip.\n",
            "[nltk_data]    | Downloading package reuters to /root/nltk_data...\n",
            "[nltk_data]    | Downloading package rte to /root/nltk_data...\n",
            "[nltk_data]    |   Unzipping corpora/rte.zip.\n",
            "[nltk_data]    | Downloading package semcor to /root/nltk_data...\n",
            "[nltk_data]    | Downloading package senseval to /root/nltk_data...\n",
            "[nltk_data]    |   Unzipping corpora/senseval.zip.\n",
            "[nltk_data]    | Downloading package sentence_polarity to\n",
            "[nltk_data]    |     /root/nltk_data...\n",
            "[nltk_data]    |   Unzipping corpora/sentence_polarity.zip.\n",
            "[nltk_data]    | Downloading package sentiwordnet to\n",
            "[nltk_data]    |     /root/nltk_data...\n",
            "[nltk_data]    |   Unzipping corpora/sentiwordnet.zip.\n",
            "[nltk_data]    | Downloading package shakespeare to /root/nltk_data...\n",
            "[nltk_data]    |   Unzipping corpora/shakespeare.zip.\n",
            "[nltk_data]    | Downloading package sinica_treebank to\n",
            "[nltk_data]    |     /root/nltk_data...\n",
            "[nltk_data]    |   Unzipping corpora/sinica_treebank.zip.\n",
            "[nltk_data]    | Downloading package smultron to /root/nltk_data...\n",
            "[nltk_data]    |   Unzipping corpora/smultron.zip.\n",
            "[nltk_data]    | Downloading package state_union to /root/nltk_data...\n",
            "[nltk_data]    |   Unzipping corpora/state_union.zip.\n",
            "[nltk_data]    | Downloading package stopwords to /root/nltk_data...\n",
            "[nltk_data]    |   Package stopwords is already up-to-date!\n",
            "[nltk_data]    | Downloading package subjectivity to\n",
            "[nltk_data]    |     /root/nltk_data...\n",
            "[nltk_data]    |   Unzipping corpora/subjectivity.zip.\n",
            "[nltk_data]    | Downloading package swadesh to /root/nltk_data...\n",
            "[nltk_data]    |   Unzipping corpora/swadesh.zip.\n",
            "[nltk_data]    | Downloading package switchboard to /root/nltk_data...\n",
            "[nltk_data]    |   Unzipping corpora/switchboard.zip.\n",
            "[nltk_data]    | Downloading package timit to /root/nltk_data...\n",
            "[nltk_data]    |   Unzipping corpora/timit.zip.\n",
            "[nltk_data]    | Downloading package toolbox to /root/nltk_data...\n",
            "[nltk_data]    |   Unzipping corpora/toolbox.zip.\n",
            "[nltk_data]    | Downloading package treebank to /root/nltk_data...\n",
            "[nltk_data]    |   Unzipping corpora/treebank.zip.\n",
            "[nltk_data]    | Downloading package twitter_samples to\n",
            "[nltk_data]    |     /root/nltk_data...\n",
            "[nltk_data]    |   Unzipping corpora/twitter_samples.zip.\n",
            "[nltk_data]    | Downloading package udhr to /root/nltk_data...\n",
            "[nltk_data]    |   Unzipping corpora/udhr.zip.\n",
            "[nltk_data]    | Downloading package udhr2 to /root/nltk_data...\n",
            "[nltk_data]    |   Unzipping corpora/udhr2.zip.\n",
            "[nltk_data]    | Downloading package unicode_samples to\n",
            "[nltk_data]    |     /root/nltk_data...\n",
            "[nltk_data]    |   Unzipping corpora/unicode_samples.zip.\n",
            "[nltk_data]    | Downloading package universal_treebanks_v20 to\n",
            "[nltk_data]    |     /root/nltk_data...\n",
            "[nltk_data]    | Downloading package verbnet to /root/nltk_data...\n",
            "[nltk_data]    |   Unzipping corpora/verbnet.zip.\n",
            "[nltk_data]    | Downloading package verbnet3 to /root/nltk_data...\n",
            "[nltk_data]    |   Unzipping corpora/verbnet3.zip.\n",
            "[nltk_data]    | Downloading package webtext to /root/nltk_data...\n",
            "[nltk_data]    |   Unzipping corpora/webtext.zip.\n",
            "[nltk_data]    | Downloading package wordnet to /root/nltk_data...\n",
            "[nltk_data]    | Downloading package wordnet2021 to /root/nltk_data...\n",
            "[nltk_data]    | Downloading package wordnet2022 to /root/nltk_data...\n",
            "[nltk_data]    |   Unzipping corpora/wordnet2022.zip.\n",
            "[nltk_data]    | Downloading package wordnet31 to /root/nltk_data...\n",
            "[nltk_data]    | Downloading package wordnet_ic to /root/nltk_data...\n",
            "[nltk_data]    |   Unzipping corpora/wordnet_ic.zip.\n",
            "[nltk_data]    | Downloading package words to /root/nltk_data...\n",
            "[nltk_data]    |   Unzipping corpora/words.zip.\n",
            "[nltk_data]    | Downloading package ycoe to /root/nltk_data...\n",
            "[nltk_data]    |   Unzipping corpora/ycoe.zip.\n",
            "[nltk_data]    | \n",
            "[nltk_data]  Done downloading collection all-corpora\n"
          ]
        },
        {
          "data": {
            "text/plain": [
              "True"
            ]
          },
          "execution_count": 27,
          "metadata": {},
          "output_type": "execute_result"
        }
      ],
      "source": [
        "nltk.download('all-corpora')\n"
      ]
    },
    {
      "cell_type": "code",
      "execution_count": null,
      "metadata": {
        "colab": {
          "background_save": true
        },
        "id": "Zj572WD6DDBF",
        "outputId": "e3422275-cb0b-439c-e61c-a000f6623758"
      },
      "outputs": [
        {
          "name": "stdout",
          "output_type": "stream",
          "text": [
            "['dolch.zip', 'switchboard', 'jeita.zip', 'qc', 'panlex_swadesh.zip', 'conll2000', 'dependency_treebank.zip', 'verbnet', 'nonbreaking_prefixes.zip', 'rte.zip', 'qc.zip', 'abc.zip', 'mac_morpho.zip', 'cess_esp.zip', 'verbnet3.zip', 'toolbox', 'gazetteers.zip', 'treebank', 'universal_treebanks_v20.zip', 'pros_cons', 'webtext', 'comtrans.zip', 'toolbox.zip', 'nps_chat.zip', 'sentence_polarity', 'ycoe', 'omw-1.4.zip', 'indian', 'brown_tei.zip', 'state_union', 'nps_chat', 'biocreative_ppi.zip', 'ptb', 'city_database', 'problem_reports', 'conll2002', 'opinion_lexicon.zip', 'words', 'propbank.zip', 'semcor.zip', 'framenet_v15', 'brown.zip', 'unicode_samples.zip', 'rte', 'mac_morpho', 'nombank.1.0.zip', 'gutenberg.zip', 'shakespeare.zip', 'inaugural', 'biocreative_ppi', 'sinica_treebank', 'twitter_samples.zip', 'crubadan.zip', 'udhr', 'paradigms', 'twitter_samples', 'stopwords', 'unicode_samples', 'dolch', 'paradigms.zip', 'subjectivity', 'cmudict', 'wordnet31.zip', 'lin_thesaurus', 'wordnet_ic', 'sentiwordnet.zip', 'pe08', 'wordnet2022.zip', 'stopwords.zip', 'senseval.zip', 'wordnet.zip', 'comparative_sentences.zip', 'comparative_sentences', 'words.zip', 'reuters.zip', 'brown', 'genesis', 'ppattach.zip', 'framenet_v17', 'conll2007.zip', 'pe08.zip', 'treebank.zip', 'crubadan', 'cess_cat.zip', 'bcp47.zip', 'ppattach', 'machado.zip', 'europarl_raw', 'mte_teip5.zip', 'movie_reviews', 'cess_esp', 'smultron.zip', 'udhr2.zip', 'omw.zip', 'sinica_treebank.zip', 'kimmo', 'chat80', 'opinion_lexicon', 'mte_teip5', 'swadesh.zip', 'timit.zip', 'dependency_treebank', 'wordnet_ic.zip', 'state_union.zip', 'ptb.zip', 'framenet_v17.zip', 'product_reviews_1', 'genesis.zip', 'masc_tagged.zip', 'udhr2', 'wordnet2021.zip', 'movie_reviews.zip', 'extended_omw.zip', 'indian.zip', 'ieer.zip', 'floresta', 'lin_thesaurus.zip', 'gazetteers', 'ieer', 'framenet_v15.zip', 'swadesh', 'pil.zip', 'senseval', 'brown_tei', 'alpino', 'pil', 'pl196x', 'nonbreaking_prefixes', 'product_reviews_2', 'problem_reports.zip', 'subjectivity.zip', 'pros_cons.zip', 'names.zip', 'verbnet.zip', 'city_database.zip', 'abc', 'alpino.zip', 'kimmo.zip', 'shakespeare', 'udhr.zip', 'cmudict.zip', 'verbnet3', 'timit', 'product_reviews_2.zip', 'conll2000.zip', 'names', 'europarl_raw.zip', 'switchboard.zip', 'floresta.zip', 'knbc.zip', 'conll2002.zip', 'ycoe.zip', 'gutenberg', 'sentence_polarity.zip', 'inaugural.zip', 'chat80.zip', 'smultron', 'sentiwordnet', 'cess_cat', 'wordnet2022', 'webtext.zip', 'pl196x.zip', 'product_reviews_1.zip']\n"
          ]
        }
      ],
      "source": [
        "print(os.listdir(nltk.data.find(\"corpora\")))"
      ]
    },
    {
      "cell_type": "code",
      "execution_count": null,
      "metadata": {
        "colab": {
          "background_save": true
        },
        "id": "_iwlmiKABNje",
        "outputId": "72916609-e177-482f-fe83-dcc2ca0c6e6d"
      },
      "outputs": [
        {
          "name": "stderr",
          "output_type": "stream",
          "text": [
            "[nltk_data] Downloading package brown to /root/nltk_data...\n",
            "[nltk_data]   Package brown is already up-to-date!\n"
          ]
        },
        {
          "data": {
            "text/plain": [
              "['The', 'Fulton', 'County', 'Grand', 'Jury', 'said', ...]"
            ]
          },
          "execution_count": 29,
          "metadata": {},
          "output_type": "execute_result"
        }
      ],
      "source": [
        "nltk.download('brown')\n",
        "from nltk.corpus import brown\n",
        "brown.words()"
      ]
    },
    {
      "cell_type": "code",
      "execution_count": null,
      "metadata": {
        "colab": {
          "background_save": true
        },
        "id": "-OqwUb00BjFF",
        "outputId": "858f3c5a-d1e6-44f0-f67d-600a34c6882f"
      },
      "outputs": [
        {
          "data": {
            "text/plain": [
              "['austen-emma.txt',\n",
              " 'austen-persuasion.txt',\n",
              " 'austen-sense.txt',\n",
              " 'bible-kjv.txt',\n",
              " 'blake-poems.txt',\n",
              " 'bryant-stories.txt',\n",
              " 'burgess-busterbrown.txt',\n",
              " 'carroll-alice.txt',\n",
              " 'chesterton-ball.txt',\n",
              " 'chesterton-brown.txt',\n",
              " 'chesterton-thursday.txt',\n",
              " 'edgeworth-parents.txt',\n",
              " 'melville-moby_dick.txt',\n",
              " 'milton-paradise.txt',\n",
              " 'shakespeare-caesar.txt',\n",
              " 'shakespeare-hamlet.txt',\n",
              " 'shakespeare-macbeth.txt',\n",
              " 'whitman-leaves.txt']"
            ]
          },
          "execution_count": 30,
          "metadata": {},
          "output_type": "execute_result"
        }
      ],
      "source": [
        "nltk.corpus.gutenberg.fileids()"
      ]
    },
    {
      "cell_type": "code",
      "execution_count": null,
      "metadata": {
        "colab": {
          "background_save": true
        },
        "id": "Hu5RjtxKESee",
        "outputId": "c0fc3644-11ae-47e4-b61b-6bf5a88dc373"
      },
      "outputs": [
        {
          "data": {
            "text/plain": [
              "['[', 'The', 'Tragedie', 'of', 'Hamlet', 'by', ...]"
            ]
          },
          "execution_count": 31,
          "metadata": {},
          "output_type": "execute_result"
        }
      ],
      "source": [
        "hamlet=nltk.corpus.gutenberg.words('shakespeare-hamlet.txt')\n",
        "hamlet"
      ]
    },
    {
      "cell_type": "code",
      "execution_count": null,
      "metadata": {
        "colab": {
          "background_save": true
        },
        "id": "mAInDCe-FCs7",
        "outputId": "b36ea2bd-a4c5-4304-bbd4-a6ee1b0758ba"
      },
      "outputs": [
        {
          "name": "stdout",
          "output_type": "stream",
          "text": [
            "[ The Tragedie of Hamlet by William Shakespeare 1599 ] Actus Primus . Scoena Prima . Enter Barnardo and Francisco two Centinels . Barnardo . Who ' s there ? Fran . Nay answer me : Stand & vnfold your selfe Bar . Long liue the King Fran . Barnardo ? Bar . He Fran . You come most carefully vpon your houre Bar . ' Tis now strook twelue , get thee to bed Francisco Fran . For this releefe much thankes : ' Tis bitter cold , And I am sicke at heart Barn . Haue you had quiet Guard ? Fran . Not a Mouse stirring Barn . Well , goodnight . If you do meet Horatio and Marcellus , the Riuals of my Watch , bid them make hast . Enter Horatio and Marcellus . Fran . I thinke I heare them . Stand : who ' s there ? Hor . Friends to this ground Mar . And Leige - men to the Dane Fran . Giue you good night Mar . O farwel honest Soldier , who hath relieu ' d you ? Fra . Barnardo ha ' s my place : giue you goodnight . Exit Fran . Mar . Holla Barnardo Bar . Say , what is Horatio there ? Hor . A peece of him Bar . Welcome Horatio , welcome good Marcellus Mar . What , ha ' s this thing appear ' d againe to night Bar . I haue seene nothing Mar . Horatio saies , ' tis but our Fantasie , And will not let beleefe take hold of him Touching this dreaded sight , twice seene of vs , Therefore I haue intreated him along With vs , to watch the minutes of this Night , That if againe this Apparition come , He may approue our eyes , and speake to it Hor . Tush , tush , ' twill not appeare Bar . Sit downe a - while , And let vs once againe assaile your eares , That are so fortified against our Story , What we two Nights haue seene Hor . Well , sit we downe , And let vs heare Barnardo speake of this Barn . Last night of all , When yond same Starre that ' s Westward from the Pole Had made his course t ' illume that part of Heauen Where now it burnes , Marcellus and my selfe , The Bell then beating one Mar . Peace , breake thee of : Enter the Ghost . Looke where it comes againe Barn . In the same figure , like the King that ' s dead Mar . Thou art a Scholler ; speake to it Horatio Barn . Lookes it not like the King ? Marke it Horatio Hora . Most like : It harrowes me with fear & wonder Barn . It would be spoke too Mar . Question it Horatio Hor . What art "
          ]
        }
      ],
      "source": [
        "for word in hamlet[:500]:\n",
        "  print(word, sep=\" \", end=\" \")"
      ]
    },
    {
      "cell_type": "code",
      "execution_count": null,
      "metadata": {
        "colab": {
          "background_save": true
        },
        "id": "fTdzWyGsF2iH"
      },
      "outputs": [],
      "source": [
        "ai = \"Artificial Intelligence (AI) has become an integral part of modern technology, influencing nearly every industry by enhancing automation, optimizing decision-making, and enabling machines to perform complex cognitive tasks that were once exclusive to humans; from self-driving cars and intelligent virtual assistants to advanced medical diagnostics and real-time language translation, AI is transforming the way we work, communicate, and interact with the digital world, driven by breakthroughs in deep learning, neural networks, and massive computational power; as AI systems continue to evolve, they not only improve efficiency and innovation but also raise ethical and societal challenges, including concerns over data privacy, algorithmic biases, and the potential impact on the job market, making it crucial for researchers, policymakers, and businesses to develop AI responsibly, ensuring that its deployment aligns with ethical principles, transparency, and the greater good of humanity.\""
      ]
    },
    {
      "cell_type": "code",
      "execution_count": null,
      "metadata": {
        "colab": {
          "background_save": true
        },
        "id": "WhFTJh48G9E2",
        "outputId": "b987b8b8-1d53-467a-b8cf-af827a23e07a"
      },
      "outputs": [
        {
          "data": {
            "text/plain": [
              "str"
            ]
          },
          "execution_count": 34,
          "metadata": {},
          "output_type": "execute_result"
        }
      ],
      "source": [
        "type(ai)"
      ]
    },
    {
      "cell_type": "code",
      "execution_count": null,
      "metadata": {
        "colab": {
          "background_save": true
        },
        "id": "ZiKAjQSBG-sE"
      },
      "outputs": [],
      "source": [
        "from nltk.tokenize import word_tokenize"
      ]
    },
    {
      "cell_type": "code",
      "execution_count": null,
      "metadata": {
        "colab": {
          "background_save": true
        },
        "id": "iouNbWEKHGeX",
        "outputId": "0b1529c3-9f8d-4a1a-a691-67dd0d189f34"
      },
      "outputs": [
        {
          "data": {
            "text/plain": [
              "['Artificial',\n",
              " 'Intelligence',\n",
              " '(',\n",
              " 'AI',\n",
              " ')',\n",
              " 'has',\n",
              " 'become',\n",
              " 'an',\n",
              " 'integral',\n",
              " 'part',\n",
              " 'of',\n",
              " 'modern',\n",
              " 'technology',\n",
              " ',',\n",
              " 'influencing',\n",
              " 'nearly',\n",
              " 'every',\n",
              " 'industry',\n",
              " 'by',\n",
              " 'enhancing',\n",
              " 'automation',\n",
              " ',',\n",
              " 'optimizing',\n",
              " 'decision-making',\n",
              " ',',\n",
              " 'and',\n",
              " 'enabling',\n",
              " 'machines',\n",
              " 'to',\n",
              " 'perform',\n",
              " 'complex',\n",
              " 'cognitive',\n",
              " 'tasks',\n",
              " 'that',\n",
              " 'were',\n",
              " 'once',\n",
              " 'exclusive',\n",
              " 'to',\n",
              " 'humans',\n",
              " ';',\n",
              " 'from',\n",
              " 'self-driving',\n",
              " 'cars',\n",
              " 'and',\n",
              " 'intelligent',\n",
              " 'virtual',\n",
              " 'assistants',\n",
              " 'to',\n",
              " 'advanced',\n",
              " 'medical',\n",
              " 'diagnostics',\n",
              " 'and',\n",
              " 'real-time',\n",
              " 'language',\n",
              " 'translation',\n",
              " ',',\n",
              " 'AI',\n",
              " 'is',\n",
              " 'transforming',\n",
              " 'the',\n",
              " 'way',\n",
              " 'we',\n",
              " 'work',\n",
              " ',',\n",
              " 'communicate',\n",
              " ',',\n",
              " 'and',\n",
              " 'interact',\n",
              " 'with',\n",
              " 'the',\n",
              " 'digital',\n",
              " 'world',\n",
              " ',',\n",
              " 'driven',\n",
              " 'by',\n",
              " 'breakthroughs',\n",
              " 'in',\n",
              " 'deep',\n",
              " 'learning',\n",
              " ',',\n",
              " 'neural',\n",
              " 'networks',\n",
              " ',',\n",
              " 'and',\n",
              " 'massive',\n",
              " 'computational',\n",
              " 'power',\n",
              " ';',\n",
              " 'as',\n",
              " 'AI',\n",
              " 'systems',\n",
              " 'continue',\n",
              " 'to',\n",
              " 'evolve',\n",
              " ',',\n",
              " 'they',\n",
              " 'not',\n",
              " 'only',\n",
              " 'improve',\n",
              " 'efficiency',\n",
              " 'and',\n",
              " 'innovation',\n",
              " 'but',\n",
              " 'also',\n",
              " 'raise',\n",
              " 'ethical',\n",
              " 'and',\n",
              " 'societal',\n",
              " 'challenges',\n",
              " ',',\n",
              " 'including',\n",
              " 'concerns',\n",
              " 'over',\n",
              " 'data',\n",
              " 'privacy',\n",
              " ',',\n",
              " 'algorithmic',\n",
              " 'biases',\n",
              " ',',\n",
              " 'and',\n",
              " 'the',\n",
              " 'potential',\n",
              " 'impact',\n",
              " 'on',\n",
              " 'the',\n",
              " 'job',\n",
              " 'market',\n",
              " ',',\n",
              " 'making',\n",
              " 'it',\n",
              " 'crucial',\n",
              " 'for',\n",
              " 'researchers',\n",
              " ',',\n",
              " 'policymakers',\n",
              " ',',\n",
              " 'and',\n",
              " 'businesses',\n",
              " 'to',\n",
              " 'develop',\n",
              " 'AI',\n",
              " 'responsibly',\n",
              " ',',\n",
              " 'ensuring',\n",
              " 'that',\n",
              " 'its',\n",
              " 'deployment',\n",
              " 'aligns',\n",
              " 'with',\n",
              " 'ethical',\n",
              " 'principles',\n",
              " ',',\n",
              " 'transparency',\n",
              " ',',\n",
              " 'and',\n",
              " 'the',\n",
              " 'greater',\n",
              " 'good',\n",
              " 'of',\n",
              " 'humanity',\n",
              " '.']"
            ]
          },
          "execution_count": 36,
          "metadata": {},
          "output_type": "execute_result"
        }
      ],
      "source": [
        "ai_tokens = word_tokenize(ai)\n",
        "ai_tokens"
      ]
    },
    {
      "cell_type": "code",
      "execution_count": null,
      "metadata": {
        "colab": {
          "background_save": true
        },
        "id": "xjRwXoNoHKqS",
        "outputId": "e2d57165-1cdb-4e8d-ff9e-a738ab38e7e1"
      },
      "outputs": [
        {
          "data": {
            "text/plain": [
              "161"
            ]
          },
          "execution_count": 37,
          "metadata": {},
          "output_type": "execute_result"
        }
      ],
      "source": [
        "len(ai_tokens)"
      ]
    },
    {
      "cell_type": "code",
      "execution_count": null,
      "metadata": {
        "colab": {
          "background_save": true
        },
        "id": "4I_uVIssH_bv"
      },
      "outputs": [],
      "source": [
        "from nltk.probability import FreqDist\n",
        "fdist = FreqDist()"
      ]
    },
    {
      "cell_type": "code",
      "execution_count": null,
      "metadata": {
        "colab": {
          "background_save": true
        },
        "id": "mXd5cU4GHbX2",
        "outputId": "3300c6a4-1ad4-4087-89ed-65c28cf0527d"
      },
      "outputs": [
        {
          "data": {
            "text/plain": [
              "FreqDist({',': 19, 'and': 10, 'to': 5, 'the': 5, 'ai': 4, 'of': 2, 'by': 2, 'that': 2, ';': 2, 'with': 2, ...})"
            ]
          },
          "execution_count": 39,
          "metadata": {},
          "output_type": "execute_result"
        }
      ],
      "source": [
        "for word in ai_tokens:\n",
        "  fdist[word.lower()]+=1\n",
        "fdist"
      ]
    },
    {
      "cell_type": "code",
      "execution_count": null,
      "metadata": {
        "colab": {
          "background_save": true
        },
        "id": "leHLwe8UH9C4",
        "outputId": "28f8a4c1-7876-4044-da0d-79efcc0d4a0b"
      },
      "outputs": [
        {
          "data": {
            "text/plain": [
              "1"
            ]
          },
          "execution_count": 40,
          "metadata": {},
          "output_type": "execute_result"
        }
      ],
      "source": [
        "fdist[\"artificial\"]"
      ]
    },
    {
      "cell_type": "code",
      "execution_count": null,
      "metadata": {
        "colab": {
          "background_save": true
        },
        "id": "yukSKSOsJSlX",
        "outputId": "084b59fe-8602-4a47-ef08-97ce00813902"
      },
      "outputs": [
        {
          "data": {
            "text/plain": [
              "117"
            ]
          },
          "execution_count": 41,
          "metadata": {},
          "output_type": "execute_result"
        }
      ],
      "source": [
        "len(fdist)"
      ]
    },
    {
      "cell_type": "code",
      "execution_count": null,
      "metadata": {
        "colab": {
          "background_save": true
        },
        "id": "Xe__YHjmJUax"
      },
      "outputs": [],
      "source": []
    }
  ],
  "metadata": {
    "colab": {
      "provenance": [],
      "authorship_tag": "ABX9TyOH58F/NEkzeYHEGjcKDBMP",
      "include_colab_link": true
    },
    "kernelspec": {
      "display_name": "Python 3",
      "name": "python3"
    },
    "language_info": {
      "name": "python"
    }
  },
  "nbformat": 4,
  "nbformat_minor": 0
}